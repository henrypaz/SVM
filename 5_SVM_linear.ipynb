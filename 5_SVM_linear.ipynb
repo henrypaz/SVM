{
 "cells": [
  {
   "cell_type": "code",
   "execution_count": 1,
   "metadata": {},
   "outputs": [
    {
     "name": "stderr",
     "output_type": "stream",
     "text": [
      "c:\\users\\usuario\\appdata\\local\\programs\\python\\python36\\lib\\site-packages\\sklearn\\externals\\six.py:31: FutureWarning: The module is deprecated in version 0.21 and will be removed in version 0.23 since we've dropped support for Python 2.7. Please rely on the official version of six (https://pypi.org/project/six/).\n",
      "  \"(https://pypi.org/project/six/).\", FutureWarning)\n",
      "c:\\users\\usuario\\appdata\\local\\programs\\python\\python36\\lib\\site-packages\\sklearn\\externals\\joblib\\__init__.py:15: FutureWarning: sklearn.externals.joblib is deprecated in 0.21 and will be removed in 0.23. Please import this functionality directly from joblib, which can be installed with: pip install joblib. If this warning is raised when loading pickled models, you may need to re-serialize those models with scikit-learn 0.21+.\n",
      "  warnings.warn(msg, category=FutureWarning)\n",
      "Using TensorFlow backend.\n"
     ]
    }
   ],
   "source": [
    "from sklearn.svm import SVC\n",
    "from sklearn.decomposition import PCA\n",
    "import pandas as pd #procesamiento de archi9vos \n",
    "import numpy as np\n",
    "import matplotlib.pyplot as plt\n",
    "import mglearn\n",
    "from keras.models import Sequential\n",
    "from keras.layers import Dense\n",
    "from sklearn.linear_model import LogisticRegression\n",
    "from sklearn.linear_model import LinearRegression\n",
    "from sklearn.model_selection import train_test_split\n",
    "from sklearn.metrics import confusion_matrix  #matrix de confusion\n",
    "from sklearn import preprocessing\n",
    "from keras import optimizers\n",
    "from sklearn.metrics import classification_report\n",
    "from sklearn.preprocessing import minmax_scale"
   ]
  },
  {
   "cell_type": "code",
   "execution_count": 5,
   "metadata": {},
   "outputs": [],
   "source": [
    "def leerData(ruta):\n",
    "    df = pd.read_csv(ruta, sep=',')\n",
    "    return df\n",
    "\n",
    "def dibujar(errorRate,title):\n",
    "    plt.figure(figsize=(15, 6))\n",
    "    plt.plot(errorRate, color='blue', linestyle='dashed',\n",
    "             marker='o', markerfacecolor='red', markersize=10)\n",
    "    plt.xlabel('Número de K')\n",
    "    plt.ylabel(title)\n",
    "    plt.show()\n",
    "    return\n",
    "\n",
    "def clasificadorSVM(kernel, X,y):\n",
    "    cls=SVC(kernel=kernel,gamma=10)\n",
    "    cls.fit(X,y)\n",
    "    cls.score(X,y)\n",
    "    return cls\n",
    "\n",
    "def resultadosSVM(cls, X, y):\n",
    "    score = cls.score(X, y)\n",
    "    return score\n",
    "\n",
    "\n",
    "def predecirSVM(cls, X, y):\n",
    "    yPred = cls.predict(X)\n",
    "    matrixConf = confusion_matrix(y, yPred)\n",
    "    report = classification_report(y, yPred)\n",
    "    return matrixConf, report\n",
    "def NormalizarData(dataframe):\n",
    "    #Columna 2\n",
    "    dataframe = dataframe.replace('?',0)\n",
    "    dataframe = dataframe.replace('State-gov',1)\n",
    "    dataframe = dataframe.replace('Self-emp-not-inc',2)\n",
    "    dataframe = dataframe.replace('Self-emp-inc',3)\n",
    "    dataframe = dataframe.replace('Private',4)\n",
    "    dataframe = dataframe.replace('Federal-gov',5)\n",
    "    dataframe = dataframe.replace('Local-gov',6)    \n",
    "    dataframe = dataframe.replace('Without-pay',7)\n",
    "    dataframe = dataframe.replace('Never-worked',8)\n",
    "    #Columa 4\n",
    "    dataframe = dataframe.replace('Preschool',1)\n",
    "    dataframe = dataframe.replace('1st-4th',2)\n",
    "    dataframe = dataframe.replace('5th-6th',3)\n",
    "    dataframe = dataframe.replace('7th-8th',4)\n",
    "    dataframe = dataframe.replace('9th',5)\n",
    "    dataframe = dataframe.replace('10th',6)\n",
    "    dataframe = dataframe.replace('11th',7)\n",
    "    dataframe = dataframe.replace('12th',8)\n",
    "    dataframe = dataframe.replace('HS-grad',9)\n",
    "    dataframe = dataframe.replace('Assoc-acdm',10)\n",
    "    dataframe = dataframe.replace('Some-college',11)\n",
    "    dataframe = dataframe.replace('Prof-school',12)    \n",
    "    dataframe = dataframe.replace('Bachelors',13)\n",
    "    dataframe = dataframe.replace('Masters',14)\n",
    "    dataframe = dataframe.replace('Doctorate',15)    \n",
    "    dataframe = dataframe.replace('Assoc-voc',16)\n",
    "    #columna 6\n",
    "    dataframe = dataframe.replace('Never-married',1)\n",
    "    dataframe = dataframe.replace('Married-civ-spouse',2)\n",
    "    dataframe = dataframe.replace('Widowed',3)\n",
    "    dataframe = dataframe.replace('Not-in-family',4)\n",
    "    dataframe = dataframe.replace('Separated',5)\n",
    "    dataframe = dataframe.replace('Divorced',6)\n",
    "    dataframe = dataframe.replace('Married-spouse-absent',7)\n",
    "    dataframe = dataframe.replace('Married-AF-spouse',8)\n",
    "    #columna 7\n",
    "    dataframe = dataframe.replace('Machine-op-inspct',1)\n",
    "    dataframe = dataframe.replace('Farming-fishing',2)\n",
    "    dataframe = dataframe.replace('Protective-serv',3)\n",
    "    dataframe = dataframe.replace('Machine-op-inspct',4)    \n",
    "    dataframe = dataframe.replace('Other-service',5)\n",
    "    dataframe = dataframe.replace('Prof-specialty',6)\n",
    "    dataframe = dataframe.replace('Craft-repair',7)\n",
    "    dataframe = dataframe.replace('Adm-clerical',8)\n",
    "    dataframe = dataframe.replace('Exec-managerial',9)\n",
    "    dataframe = dataframe.replace('Tech-support',10)\n",
    "    dataframe = dataframe.replace('Craft-repair',11)\n",
    "    dataframe = dataframe.replace('Sales',12)\n",
    "    dataframe = dataframe.replace('Priv-house-serv',13)\n",
    "    dataframe = dataframe.replace('Handlers-cleaners',14)\n",
    "    dataframe = dataframe.replace('Transport-moving',15)\n",
    "    dataframe = dataframe.replace('Armed-Forces',16)\n",
    "    #columna 8\n",
    "    dataframe = dataframe.replace('Own-child',1)\n",
    "    dataframe = dataframe.replace('Husband',2)\n",
    "    dataframe = dataframe.replace('Not-in-family',3)\n",
    "    dataframe = dataframe.replace('Unmarried',4)\n",
    "    dataframe = dataframe.replace('Wife',5)\n",
    "    dataframe = dataframe.replace('Other-relative',6)\n",
    "    #columna 9\n",
    "    dataframe = dataframe.replace('Black',1)\n",
    "    dataframe = dataframe.replace('White',2)\n",
    "    dataframe = dataframe.replace('Asian-Pac-Islander',3)\n",
    "    dataframe = dataframe.replace('Amer-Indian-Eskimo',4)\n",
    "    dataframe = dataframe.replace('Other',5)\n",
    "    #columna 10    \n",
    "    dataframe = dataframe.replace('Male',1)\n",
    "    dataframe = dataframe.replace('Female',2)\n",
    "    #columna 11\n",
    "    dataframe = dataframe.replace('United-States',1)    \n",
    "    dataframe = dataframe.replace('Peru',2)\n",
    "    dataframe = dataframe.replace('Guatemala',3)\n",
    "    dataframe = dataframe.replace('Mexico',4)\n",
    "    dataframe = dataframe.replace('Dominican-Republic',5)\n",
    "    dataframe = dataframe.replace('Ireland',6)\n",
    "    dataframe = dataframe.replace('Germany',7)\n",
    "    dataframe = dataframe.replace('Philippines',8)\n",
    "    dataframe = dataframe.replace('Thailand',9)\n",
    "    dataframe = dataframe.replace('Haiti',10)\n",
    "    dataframe = dataframe.replace('El-Salvador',11)\n",
    "    dataframe = dataframe.replace('Puerto-Rico',12)\n",
    "    dataframe = dataframe.replace('Vietnam',13)\n",
    "    dataframe = dataframe.replace('South',14)\n",
    "    dataframe = dataframe.replace('Columbia',15)\n",
    "    dataframe = dataframe.replace('Japan',16)\n",
    "    dataframe = dataframe.replace('India',17)\n",
    "    dataframe = dataframe.replace('Cambodia',18)\n",
    "    dataframe = dataframe.replace('Poland',19)\n",
    "    dataframe = dataframe.replace('Laos',20)\n",
    "    dataframe = dataframe.replace('England',21)\n",
    "    dataframe = dataframe.replace('Cuba',22)\n",
    "    dataframe = dataframe.replace('Taiwan',23)\n",
    "    dataframe = dataframe.replace('Italy',24)\n",
    "    dataframe = dataframe.replace('Canada',25)\n",
    "    dataframe = dataframe.replace('Portugal',26)\n",
    "    dataframe = dataframe.replace('China',27)\n",
    "    dataframe = dataframe.replace('Nicaragua',28)\n",
    "    dataframe = dataframe.replace('Honduras',29)\n",
    "    dataframe = dataframe.replace('Iran',30)\n",
    "    dataframe = dataframe.replace('Scotland',31)\n",
    "    dataframe = dataframe.replace('Jamaica',32)\n",
    "    dataframe = dataframe.replace('Ecuador',33)\n",
    "    dataframe = dataframe.replace('Yugoslavia',34)\n",
    "    dataframe = dataframe.replace('Hungary',35)\n",
    "    dataframe = dataframe.replace('Hong',36)\n",
    "    dataframe = dataframe.replace('Greece',37)\n",
    "    dataframe = dataframe.replace('Trinadad&Tobago',38)\n",
    "    dataframe = dataframe.replace('Outlying-US(Guam-USVI-etc)',39)\n",
    "    dataframe = dataframe.replace('France',40)\n",
    "    dataframe = dataframe.replace('Holand-Netherlands',40)\n",
    "    #Columna     \n",
    "    dataframe = dataframe.replace('<=50K',0)\n",
    "    dataframe = dataframe.replace('>50K',1)\n",
    "    dataframe = dataframe.replace('<=50K.',0)\n",
    "    dataframe = dataframe.replace('>50K.',1)\n",
    "    \n",
    "    return dataframe"
   ]
  },
  {
   "cell_type": "code",
   "execution_count": 6,
   "metadata": {},
   "outputs": [],
   "source": [
    "dataframe=leerData('adult-training.csv')\n",
    "dataframe=NormalizarData(dataframe)\n",
    "X_train = dataframe.values[:,:-1]\n",
    "X_train = minmax_scale(X_train)\n",
    "y_train= dataframe['income']\n",
    "#print(dataframe)\n",
    "dataframe=leerData('adult-test.csv')\n",
    "dataframe=NormalizarData(dataframe)\n",
    "X_test = dataframe.values[:,:-1]\n",
    "X_test = minmax_scale(X_test)\n",
    "y_test= dataframe['income']\n",
    "#print(dataframe)\n"
   ]
  },
  {
   "cell_type": "code",
   "execution_count": 7,
   "metadata": {},
   "outputs": [],
   "source": [
    "x=np.concatenate((X_train,X_test), axis=0)\n",
    "y=np.concatenate((y_train,y_test), axis=0)"
   ]
  },
  {
   "cell_type": "code",
   "execution_count": 8,
   "metadata": {
    "scrolled": true
   },
   "outputs": [],
   "source": [
    "cls_linear=clasificadorSVM(\"linear\",x,y)\n"
   ]
  },
  {
   "cell_type": "code",
   "execution_count": 11,
   "metadata": {},
   "outputs": [
    {
     "name": "stdout",
     "output_type": "stream",
     "text": [
      "0.8172\n",
      "0.8162\n"
     ]
    }
   ],
   "source": [
    "##Rendimiento\n",
    "score_Train=resultadosSVM(cls_linear,X_train,y_train)\n",
    "print(round(score_Train,4))\n",
    "score_Test=resultadosSVM(cls_linear,X_test,y_test)\n",
    "print(round(score_Test,4))"
   ]
  },
  {
   "cell_type": "code",
   "execution_count": 10,
   "metadata": {},
   "outputs": [
    {
     "name": "stdout",
     "output_type": "stream",
     "text": [
      "[[24165   555]\n",
      " [ 5396  2445]]\n",
      "              precision    recall  f1-score   support\n",
      "\n",
      "           0       0.82      0.98      0.89     24720\n",
      "           1       0.81      0.31      0.45      7841\n",
      "\n",
      "    accuracy                           0.82     32561\n",
      "   macro avg       0.82      0.64      0.67     32561\n",
      "weighted avg       0.82      0.82      0.78     32561\n",
      "\n",
      "[[12091   344]\n",
      " [ 2648  1198]]\n",
      "              precision    recall  f1-score   support\n",
      "\n",
      "           0       0.82      0.97      0.89     12435\n",
      "           1       0.78      0.31      0.44      3846\n",
      "\n",
      "    accuracy                           0.82     16281\n",
      "   macro avg       0.80      0.64      0.67     16281\n",
      "weighted avg       0.81      0.82      0.78     16281\n",
      "\n"
     ]
    }
   ],
   "source": [
    "##Confussion Mat\n",
    "matrix_conf, report =predecirSVM(cls_linear,X_train,y_train)\n",
    "print(matrix_conf)\n",
    "print(report)\n",
    "matrix_conf, report =predecirSVM(cls_linear,X_test,y_test)\n",
    "print(matrix_conf)\n",
    "print(report)"
   ]
  },
  {
   "cell_type": "code",
   "execution_count": 14,
   "metadata": {},
   "outputs": [],
   "source": [
    "#cls=csvm(\"linear\",x,y);\n",
    "#cls=csvm(\"linear\",x,y);\n",
    "#cls=csvm(\"rbf\",x,y);\n",
    "#cls=csvm(\"poly\",x,y);\n",
    "#cls=csvm(\"rbf\",x,y);\n",
    "#cls=csvm(\"sigmoid\",x,y);\n",
    "valPredict_train=cls_linear.predict(X_train).round()\n",
    "confusion_matrix_train=confusion_matrix(y_train,valPredict_train)\n",
    "valPredict_test=cls_linear.predict(X_test).round()\n",
    "confusion_matrix_test=confusion_matrix(y_test,valPredict_test)"
   ]
  },
  {
   "cell_type": "code",
   "execution_count": 15,
   "metadata": {
    "scrolled": true
   },
   "outputs": [
    {
     "name": "stdout",
     "output_type": "stream",
     "text": [
      "===============confusion_matrix_train===============\n",
      "[[24165   555]\n",
      " [ 5396  2445]]\n",
      "==============confusion_matrix_test================\n",
      "[[12091   344]\n",
      " [ 2648  1198]]\n"
     ]
    }
   ],
   "source": [
    "print(\"===============confusion_matrix_train===============\")\n",
    "print(confusion_matrix_train)\n",
    "print(\"==============confusion_matrix_test================\")\n",
    "print(confusion_matrix_test)"
   ]
  },
  {
   "cell_type": "code",
   "execution_count": 18,
   "metadata": {},
   "outputs": [
    {
     "name": "stdout",
     "output_type": "stream",
     "text": [
      "CONCLUSIONES:\n",
      "Los resultados de la evaluacion del modelo son:\n",
      "-Entrenamiento:  0.8172\n",
      "-Testeo:  0.8162\n"
     ]
    }
   ],
   "source": [
    "print(\"CONCLUSIONES:\")\n",
    "print(\"Los resultados de la evaluacion del modelo son:\")\n",
    "print(\"-Entrenamiento: \",round(score_Train,4))\n",
    "print(\"-Testeo: \",round(score_Test,4))"
   ]
  }
 ],
 "metadata": {
  "kernelspec": {
   "display_name": "Python 3",
   "language": "python",
   "name": "python3"
  },
  "language_info": {
   "codemirror_mode": {
    "name": "ipython",
    "version": 3
   },
   "file_extension": ".py",
   "mimetype": "text/x-python",
   "name": "python",
   "nbconvert_exporter": "python",
   "pygments_lexer": "ipython3",
   "version": "3.7.3"
  }
 },
 "nbformat": 4,
 "nbformat_minor": 4
}
